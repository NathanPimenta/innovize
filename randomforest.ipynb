{
 "cells": [
  {
   "cell_type": "code",
   "execution_count": null,
   "id": "c89a3e39-536d-4efd-b3da-f61ea21b3a41",
   "metadata": {},
   "outputs": [],
   "source": [
    "import pandas as pd\n",
    "data = pd.read_csv('D:/innovize/data.csv')"
   ]
  },
  {
   "cell_type": "code",
   "execution_count": 2,
   "id": "f4fca039-2f81-4b1c-929b-25e3dde8a17b",
   "metadata": {},
   "outputs": [
    {
     "name": "stdout",
     "output_type": "stream",
     "text": [
      "      phy_fitness    diet_pref       act_level  sleep_hrs  mindfulness  \\\n",
      "0             3.0        Vegan       Sedentary          7           10   \n",
      "1             4.0        Vegan  Lightly Active          7            1   \n",
      "2             8.0   Vegetarian          Active          8           10   \n",
      "3             2.0  Pescatarian       Sedentary          8            7   \n",
      "4             9.0  Pescatarian   Highly Active          5            7   \n",
      "...           ...          ...             ...        ...          ...   \n",
      "5995          7.0         Keto          Active          7            8   \n",
      "5996          2.0         Keto       Sedentary          5            4   \n",
      "5997          2.0         Keto       Sedentary          7            7   \n",
      "5998          7.0        Vegan          Active          9            2   \n",
      "5999          7.0  Pescatarian          Active          8            3   \n",
      "\n",
      "          career  gender  daily_avg_steps  daily_avg_calories  is_healthy  \n",
      "0         Artist     1.0           2020.0              1831.0           0  \n",
      "1        Teacher     0.0           5154.0              2190.0           0  \n",
      "2     Freelancer     1.0          12363.0              2297.0           1  \n",
      "3         Doctor     0.0           1664.0              1943.0           0  \n",
      "4       Business     0.0          17680.0              3527.0           1  \n",
      "...          ...     ...              ...                 ...         ...  \n",
      "5995   Scientist     1.0          14373.0              2663.0           1  \n",
      "5996      Artist     1.0           4484.0              2080.0           0  \n",
      "5997      Doctor     1.0           2670.0              1941.0           0  \n",
      "5998    Engineer     1.0          11982.0              2837.0           0  \n",
      "5999      Lawyer     1.0          13237.0              2389.0           0  \n",
      "\n",
      "[6000 rows x 10 columns]\n"
     ]
    }
   ],
   "source": [
    "print(data)"
   ]
  },
  {
   "cell_type": "code",
   "execution_count": 5,
   "id": "9337f8b9-1c86-4a1d-9ff7-2e6823290175",
   "metadata": {},
   "outputs": [
    {
     "name": "stdout",
     "output_type": "stream",
     "text": [
      "phy_fitness            3\n",
      "diet_pref              4\n",
      "act_level              6\n",
      "sleep_hrs              0\n",
      "mindfulness            0\n",
      "career                 4\n",
      "gender                 1\n",
      "daily_avg_steps       11\n",
      "daily_avg_calories    14\n",
      "is_healthy             0\n",
      "dtype: int64\n"
     ]
    }
   ],
   "source": [
    "print(data.isnull().sum())"
   ]
  },
  {
   "cell_type": "markdown",
   "id": "e8bc7742-0f9a-425f-8e40-6772da8dabec",
   "metadata": {},
   "source": [
    "                                                handling missing values using imputation\n"
   ]
  },
  {
   "cell_type": "code",
   "execution_count": 8,
   "id": "f2179a65-6621-4bcb-9fd8-a478eb30f20c",
   "metadata": {},
   "outputs": [
    {
     "name": "stdout",
     "output_type": "stream",
     "text": [
      "phy_fitness            3\n",
      "diet_pref              4\n",
      "act_level              6\n",
      "sleep_hrs              0\n",
      "mindfulness            0\n",
      "career                 4\n",
      "gender                 1\n",
      "daily_avg_steps       11\n",
      "daily_avg_calories    14\n",
      "is_healthy             0\n",
      "dtype: int64\n",
      "phy_fitness           0\n",
      "diet_pref             0\n",
      "act_level             0\n",
      "sleep_hrs             0\n",
      "mindfulness           0\n",
      "career                0\n",
      "gender                0\n",
      "daily_avg_steps       0\n",
      "daily_avg_calories    0\n",
      "is_healthy            0\n",
      "dtype: int64\n"
     ]
    }
   ],
   "source": [
    "import pandas as pd\n",
    "from sklearn.impute import SimpleImputer\n",
    "\n",
    "# Check for missing values\n",
    "print(data.isnull().sum())\n",
    "\n",
    "# Impute missing values\n",
    "# For numerical columns, use mean or median\n",
    "num_imputer = SimpleImputer(strategy='mean')\n",
    "numerical_cols = ['phy_fitness', 'sleep_hrs', 'mindfulness', 'daily_avg_steps', 'daily_avg_calories']\n",
    "data[numerical_cols] = num_imputer.fit_transform(data[numerical_cols])\n",
    "\n",
    "# For categorical columns, use mode\n",
    "cat_imputer = SimpleImputer(strategy='most_frequent')\n",
    "categorical_cols = ['diet_pref', 'act_level', 'career', 'gender']\n",
    "data[categorical_cols] = cat_imputer.fit_transform(data[categorical_cols])\n",
    "\n",
    "# Verify no missing values remain\n",
    "print(data.isnull().sum())"
   ]
  },
  {
   "cell_type": "code",
   "execution_count": 9,
   "id": "e930ec14-9906-4c66-a334-fba040166e14",
   "metadata": {},
   "outputs": [
    {
     "name": "stdout",
     "output_type": "stream",
     "text": [
      "   phy_fitness  sleep_hrs  mindfulness  daily_avg_steps  daily_avg_calories  \\\n",
      "0          3.0        7.0         10.0           2020.0              1831.0   \n",
      "1          4.0        7.0          1.0           5154.0              2190.0   \n",
      "2          8.0        8.0         10.0          12363.0              2297.0   \n",
      "3          2.0        8.0          7.0           1664.0              1943.0   \n",
      "4          9.0        5.0          7.0          17680.0              3527.0   \n",
      "\n",
      "   is_healthy  diet_pref_Non-Vegetarian  diet_pref_Pescatarian  \\\n",
      "0           0                     False                  False   \n",
      "1           0                     False                  False   \n",
      "2           1                     False                  False   \n",
      "3           0                     False                   True   \n",
      "4           1                     False                   True   \n",
      "\n",
      "   diet_pref_Vegan  diet_pref_Vegetarian  ...  career_Business  career_Doctor  \\\n",
      "0             True                 False  ...            False          False   \n",
      "1             True                 False  ...            False          False   \n",
      "2            False                  True  ...            False          False   \n",
      "3            False                 False  ...            False           True   \n",
      "4            False                 False  ...             True          False   \n",
      "\n",
      "   career_Engineer  career_Freelancer  career_Lawyer  career_Manager  \\\n",
      "0            False              False          False           False   \n",
      "1            False              False          False           False   \n",
      "2            False               True          False           False   \n",
      "3            False              False          False           False   \n",
      "4            False              False          False           False   \n",
      "\n",
      "   career_Nurse  career_Scientist  career_Teacher  gender_1.0  \n",
      "0         False             False           False        True  \n",
      "1         False             False            True       False  \n",
      "2         False             False           False        True  \n",
      "3         False             False           False       False  \n",
      "4         False             False           False       False  \n",
      "\n",
      "[5 rows x 23 columns]\n"
     ]
    }
   ],
   "source": [
    "# One-hot encode categorical columns\n",
    "data = pd.get_dummies(data, columns=['diet_pref', 'act_level', 'career', 'gender'], drop_first=True)\n",
    "\n",
    "# Check the transformed dataset\n",
    "print(data.head())"
   ]
  },
  {
   "cell_type": "markdown",
   "id": "43cb8257-3173-4adc-8883-4a60f9308b8e",
   "metadata": {},
   "source": [
    "                                     splitting the dataset into train and test"
   ]
  },
  {
   "cell_type": "code",
   "execution_count": 11,
   "id": "00bad584-8bc2-4cd0-a8b2-d91e352ac645",
   "metadata": {},
   "outputs": [],
   "source": [
    "from sklearn.model_selection import train_test_split\n",
    "\n",
    "# Define features (X) and target (y)\n",
    "X = data.drop('is_healthy', axis=1)\n",
    "y = data['is_healthy']\n",
    "\n",
    "# Split the data\n",
    "X_train, X_test, y_train, y_test = train_test_split(X, y, test_size=0.2, random_state=42)"
   ]
  },
  {
   "cell_type": "markdown",
   "id": "0198fdab-1e8f-433d-8e5c-2aafdc94c83b",
   "metadata": {},
   "source": [
    "                                                       training the model"
   ]
  },
  {
   "cell_type": "code",
   "execution_count": 13,
   "id": "a950bc50-1fe3-4624-9b30-0d63b1b75a98",
   "metadata": {},
   "outputs": [
    {
     "name": "stdout",
     "output_type": "stream",
     "text": [
      "Model Accuracy: 97.33%\n"
     ]
    }
   ],
   "source": [
    "from sklearn.ensemble import RandomForestClassifier\n",
    "from sklearn.metrics import accuracy_score\n",
    "\n",
    "# Train the model\n",
    "model = RandomForestClassifier(random_state=42)\n",
    "model.fit(X_train, y_train)\n",
    "\n",
    "# Evaluate the model\n",
    "y_pred = model.predict(X_test)\n",
    "accuracy = accuracy_score(y_test, y_pred)\n",
    "print(f\"Model Accuracy: {accuracy * 100:.2f}%\")"
   ]
  },
  {
   "cell_type": "code",
   "execution_count": 14,
   "id": "9d4fe946-2a09-41ea-8770-797d0ea51181",
   "metadata": {},
   "outputs": [],
   "source": [
    "X_vis = X[['phy_fitness', 'mindfulness']]\n",
    "y_vis = y"
   ]
  },
  {
   "cell_type": "code",
   "execution_count": 21,
   "id": "b614dcab-5e41-43d6-9245-e98f73942ec3",
   "metadata": {},
   "outputs": [
    {
     "data": {
      "text/html": [
       "<style>#sk-container-id-1 {color: black;background-color: white;}#sk-container-id-1 pre{padding: 0;}#sk-container-id-1 div.sk-toggleable {background-color: white;}#sk-container-id-1 label.sk-toggleable__label {cursor: pointer;display: block;width: 100%;margin-bottom: 0;padding: 0.3em;box-sizing: border-box;text-align: center;}#sk-container-id-1 label.sk-toggleable__label-arrow:before {content: \"▸\";float: left;margin-right: 0.25em;color: #696969;}#sk-container-id-1 label.sk-toggleable__label-arrow:hover:before {color: black;}#sk-container-id-1 div.sk-estimator:hover label.sk-toggleable__label-arrow:before {color: black;}#sk-container-id-1 div.sk-toggleable__content {max-height: 0;max-width: 0;overflow: hidden;text-align: left;background-color: #f0f8ff;}#sk-container-id-1 div.sk-toggleable__content pre {margin: 0.2em;color: black;border-radius: 0.25em;background-color: #f0f8ff;}#sk-container-id-1 input.sk-toggleable__control:checked~div.sk-toggleable__content {max-height: 200px;max-width: 100%;overflow: auto;}#sk-container-id-1 input.sk-toggleable__control:checked~label.sk-toggleable__label-arrow:before {content: \"▾\";}#sk-container-id-1 div.sk-estimator input.sk-toggleable__control:checked~label.sk-toggleable__label {background-color: #d4ebff;}#sk-container-id-1 div.sk-label input.sk-toggleable__control:checked~label.sk-toggleable__label {background-color: #d4ebff;}#sk-container-id-1 input.sk-hidden--visually {border: 0;clip: rect(1px 1px 1px 1px);clip: rect(1px, 1px, 1px, 1px);height: 1px;margin: -1px;overflow: hidden;padding: 0;position: absolute;width: 1px;}#sk-container-id-1 div.sk-estimator {font-family: monospace;background-color: #f0f8ff;border: 1px dotted black;border-radius: 0.25em;box-sizing: border-box;margin-bottom: 0.5em;}#sk-container-id-1 div.sk-estimator:hover {background-color: #d4ebff;}#sk-container-id-1 div.sk-parallel-item::after {content: \"\";width: 100%;border-bottom: 1px solid gray;flex-grow: 1;}#sk-container-id-1 div.sk-label:hover label.sk-toggleable__label {background-color: #d4ebff;}#sk-container-id-1 div.sk-serial::before {content: \"\";position: absolute;border-left: 1px solid gray;box-sizing: border-box;top: 0;bottom: 0;left: 50%;z-index: 0;}#sk-container-id-1 div.sk-serial {display: flex;flex-direction: column;align-items: center;background-color: white;padding-right: 0.2em;padding-left: 0.2em;position: relative;}#sk-container-id-1 div.sk-item {position: relative;z-index: 1;}#sk-container-id-1 div.sk-parallel {display: flex;align-items: stretch;justify-content: center;background-color: white;position: relative;}#sk-container-id-1 div.sk-item::before, #sk-container-id-1 div.sk-parallel-item::before {content: \"\";position: absolute;border-left: 1px solid gray;box-sizing: border-box;top: 0;bottom: 0;left: 50%;z-index: -1;}#sk-container-id-1 div.sk-parallel-item {display: flex;flex-direction: column;z-index: 1;position: relative;background-color: white;}#sk-container-id-1 div.sk-parallel-item:first-child::after {align-self: flex-end;width: 50%;}#sk-container-id-1 div.sk-parallel-item:last-child::after {align-self: flex-start;width: 50%;}#sk-container-id-1 div.sk-parallel-item:only-child::after {width: 0;}#sk-container-id-1 div.sk-dashed-wrapped {border: 1px dashed gray;margin: 0 0.4em 0.5em 0.4em;box-sizing: border-box;padding-bottom: 0.4em;background-color: white;}#sk-container-id-1 div.sk-label label {font-family: monospace;font-weight: bold;display: inline-block;line-height: 1.2em;}#sk-container-id-1 div.sk-label-container {text-align: center;}#sk-container-id-1 div.sk-container {/* jupyter's `normalize.less` sets `[hidden] { display: none; }` but bootstrap.min.css set `[hidden] { display: none !important; }` so we also need the `!important` here to be able to override the default hidden behavior on the sphinx rendered scikit-learn.org. See: https://github.com/scikit-learn/scikit-learn/issues/21755 */display: inline-block !important;position: relative;}#sk-container-id-1 div.sk-text-repr-fallback {display: none;}</style><div id=\"sk-container-id-1\" class=\"sk-top-container\"><div class=\"sk-text-repr-fallback\"><pre>SVC(kernel=&#x27;linear&#x27;)</pre><b>In a Jupyter environment, please rerun this cell to show the HTML representation or trust the notebook. <br />On GitHub, the HTML representation is unable to render, please try loading this page with nbviewer.org.</b></div><div class=\"sk-container\" hidden><div class=\"sk-item\"><div class=\"sk-estimator sk-toggleable\"><input class=\"sk-toggleable__control sk-hidden--visually\" id=\"sk-estimator-id-1\" type=\"checkbox\" checked><label for=\"sk-estimator-id-1\" class=\"sk-toggleable__label sk-toggleable__label-arrow\">SVC</label><div class=\"sk-toggleable__content\"><pre>SVC(kernel=&#x27;linear&#x27;)</pre></div></div></div></div></div>"
      ],
      "text/plain": [
       "SVC(kernel='linear')"
      ]
     },
     "execution_count": 21,
     "metadata": {},
     "output_type": "execute_result"
    }
   ],
   "source": [
    "from sklearn.svm import SVC\n",
    "\n",
    "svm_model = SVC(kernel='linear')\n",
    "svm_model.fit(X_vis, y_vis)"
   ]
  },
  {
   "cell_type": "code",
   "execution_count": 23,
   "id": "d20ae716-835c-4152-b661-d7233f878490",
   "metadata": {},
   "outputs": [
    {
     "name": "stderr",
     "output_type": "stream",
     "text": [
      "C:\\Users\\npime\\anaconda3\\Lib\\site-packages\\sklearn\\base.py:439: UserWarning: X does not have valid feature names, but SVC was fitted with feature names\n",
      "  warnings.warn(\n"
     ]
    },
    {
     "data": {
      "image/png": "[encoded data removed]",
      "text/plain": [
       "<Figure size 640x480 with 1 Axes>"
      ]
     },
     "metadata": {},
     "output_type": "display_data"
    }
   ],
   "source": [
    "import numpy as np\n",
    "import matplotlib.pyplot as plt\n",
    "\n",
    "# Create a mesh grid\n",
    "x_min, x_max = X_vis['phy_fitness'].min() - 1, X_vis['phy_fitness'].max() + 1\n",
    "y_min, y_max = X_vis['mindfulness'].min() - 1, X_vis['mindfulness'].max() + 1\n",
    "xx, yy = np.meshgrid(np.arange(x_min, x_max, 0.01), np.arange(y_min, y_max, 0.01))\n",
    "\n",
    "# Predict on the mesh grid\n",
    "Z = svm_model.predict(np.c_[xx.ravel(), yy.ravel()])\n",
    "Z = Z.reshape(xx.shape)\n",
    "\n",
    "# Plot the decision boundary\n",
    "plt.contourf(xx, yy, Z, alpha=0.8, cmap=plt.cm.coolwarm)\n",
    "plt.scatter(X_vis['phy_fitness'], X_vis['mindfulness'], c=y_vis, cmap=plt.cm.coolwarm, edgecolors='k')\n",
    "plt.xlabel('Physical Fitness')\n",
    "plt.ylabel('Mindfulness')\n",
    "plt.title('Decision Boundary for Healthy vs Unhealthy')\n",
    "plt.show()"
   ]
  },
  {
   "cell_type": "code",
   "execution_count": null,
   "id": "145516c0-e2e1-44bf-8975-0c674666ee9c",
   "metadata": {},
   "outputs": [],
   "source": []
  }
 ],
 "metadata": {
  "kernelspec": {
   "display_name": "Python 3 (ipykernel)",
   "language": "python",
   "name": "python3"
  },
  "language_info": {
   "codemirror_mode": {
    "name": "ipython",
    "version": 3
   },
   "file_extension": ".py",
   "mimetype": "text/x-python",
   "name": "python",
   "nbconvert_exporter": "python",
   "pygments_lexer": "ipython3",
   "version": "3.11.7"
  }
 },
 "nbformat": 4,
 "nbformat_minor": 5
}
